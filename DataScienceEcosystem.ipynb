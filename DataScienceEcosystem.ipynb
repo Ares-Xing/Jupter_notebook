{
 "cells": [
  {
   "cell_type": "markdown",
   "id": "9ee0002a-cbb8-45ac-8439-d758af29fd27",
   "metadata": {},
   "source": [
    "# Data Science Tools and Ecosystem"
   ]
  },
  {
   "cell_type": "markdown",
   "id": "9eda9612-a194-46b5-853a-0e28f4d88275",
   "metadata": {},
   "source": [
    "In this notebook, Data Science tools and Ecosystem are summarized."
   ]
  },
  {
   "cell_type": "markdown",
   "id": "2fd7dcca-78b1-4654-88e1-b48f0df3f755",
   "metadata": {},
   "source": [
    "**Objectives:**\n",
    "* Languages for Data Science\n",
    "* Commomly used libraries\n",
    "* Data Science tools"
   ]
  },
  {
   "cell_type": "markdown",
   "id": "5890f2a5-4bec-4033-9677-d5868e6e1532",
   "metadata": {},
   "source": [
    "Some of the popular languages that data scientists use are:\n",
    "1. Python\n",
    "2. R\n",
    "3. Julia\n",
    "4. SQL\n",
    "5. Scala"
   ]
  },
  {
   "cell_type": "markdown",
   "id": "59a70d21-5a9e-4476-a28d-3de3566b81c5",
   "metadata": {},
   "source": [
    "Some of the commonly used libraries used by Data Scientists include:\n",
    "1. Python: panda, numpy, and plotly\n",
    "2. R: dplyr, ggplot2, and caret\n",
    "3. SQL: sqlite"
   ]
  },
  {
   "cell_type": "markdown",
   "id": "e11d9a28-2567-43b7-8624-2f5cce8d35f6",
   "metadata": {},
   "source": [
    "| Data Science Tools|\n",
    "| ----------------- |\n",
    "| Anaconda-Navigator |\n",
    "| Visaul Studio Code|\n",
    "| jupyter Lab|"
   ]
  },
  {
   "cell_type": "markdown",
   "id": "281ff95a-36af-442d-9a5a-5bdea34d8067",
   "metadata": {},
   "source": [
    "### Below are few examples of evaluating arithmetic expressions in Python"
   ]
  },
  {
   "cell_type": "code",
   "execution_count": 13,
   "id": "b6d9098a-6d90-4ba1-9d84-62453101ebad",
   "metadata": {},
   "outputs": [
    {
     "data": {
      "text/plain": [
       "17"
      ]
     },
     "execution_count": 13,
     "metadata": {},
     "output_type": "execute_result"
    }
   ],
   "source": [
    "#This a simple of arithmetic expression to multiply and then add integers\n",
    "(3*4)+5"
   ]
  },
  {
   "cell_type": "code",
   "execution_count": 15,
   "id": "a973a270-ff84-4881-9690-dd39e559e952",
   "metadata": {},
   "outputs": [
    {
     "data": {
      "text/plain": [
       "3.3333333333333335"
      ]
     },
     "execution_count": 15,
     "metadata": {},
     "output_type": "execute_result"
    }
   ],
   "source": [
    "#This will convert 200 minutes to hour by dividing by 60\n",
    "200/60"
   ]
  },
  {
   "cell_type": "markdown",
   "id": "7e833048-5ec4-425f-b673-ca9b38eb085c",
   "metadata": {},
   "source": [
    "## Author: \n",
    "Ares Xing\n"
   ]
  },
  {
   "cell_type": "code",
   "execution_count": null,
   "id": "d378af10-7ba7-4203-9c13-8e2e773b131a",
   "metadata": {},
   "outputs": [],
   "source": []
  }
 ],
 "metadata": {
  "kernelspec": {
   "display_name": "Python [conda env:RP_Env]",
   "language": "python",
   "name": "conda-env-RP_Env-py"
  },
  "language_info": {
   "codemirror_mode": {
    "name": "ipython",
    "version": 3
   },
   "file_extension": ".py",
   "mimetype": "text/x-python",
   "name": "python",
   "nbconvert_exporter": "python",
   "pygments_lexer": "ipython3",
   "version": "3.9.21"
  }
 },
 "nbformat": 4,
 "nbformat_minor": 5
}
